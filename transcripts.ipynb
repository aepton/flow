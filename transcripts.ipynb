{
 "cells": [
  {
   "cell_type": "code",
   "execution_count": 56,
   "id": "012b99d7-8845-4fb6-b4e6-45ba5c9e4c0f",
   "metadata": {},
   "outputs": [],
   "source": [
    "import json\n",
    "import re\n",
    "import requests\n",
    "import uuid\n",
    "from bs4 import BeautifulSoup"
   ]
  },
  {
   "cell_type": "markdown",
   "id": "fd5ac49c-6ef2-49ad-836e-2a57c2c2d22a",
   "metadata": {},
   "source": [
    "## 37th LD position 2, 2022"
   ]
  },
  {
   "cell_type": "code",
   "execution_count": 6,
   "id": "a8399944-b8c0-4ed3-8601-30a111d15cf5",
   "metadata": {},
   "outputs": [],
   "source": [
    "transcript_url = 'https://www.officialhacksandwonks.com/sse-37th-ld-debate-2022#transcript'\n",
    "transcript = BeautifulSoup(requests.get(transcript_url).text)"
   ]
  },
  {
   "cell_type": "code",
   "execution_count": 13,
   "id": "38fbf544-bede-49e2-ab05-27bfbab23a99",
   "metadata": {},
   "outputs": [
    {
     "data": {
      "text/plain": [
       "\"[00:00:09] Crystal Fincher: Welcome everyone to the South Seattle Emerald's 2022 General Election Candidate Debate. My name is Crystal Fincher. I'm a political consultant and the host of the Hacks & Wonks radio show and podcast, and I'm honored to welcome you all to tonight's debate. I'm also excited to hear from our guests running for State Representative Position 2 in the 37th Legislative District.\""
      ]
     },
     "execution_count": 13,
     "metadata": {},
     "output_type": "execute_result"
    }
   ],
   "source": [
    "transcript.find_all('p')[0].text"
   ]
  },
  {
   "cell_type": "code",
   "execution_count": 9,
   "id": "242118c8-e3a8-4702-8e60-2c47f0982f31",
   "metadata": {},
   "outputs": [],
   "source": [
    "pattern = re.compile(r'\\[\\d+:\\d+:\\d+]\\s(?P<name>.*):(?P<response>.*)')"
   ]
  },
  {
   "cell_type": "code",
   "execution_count": 27,
   "id": "b679d9df-256a-47cb-a11c-6700af6988a5",
   "metadata": {},
   "outputs": [],
   "source": [
    "responses = []\n",
    "name = ''\n",
    "for paragraph in transcript.find_all('p'):\n",
    "    match = pattern.match(paragraph.text)\n",
    "    if match:\n",
    "        name = match.group('name')\n",
    "        responses.append((name, match.group('response')))\n",
    "    else:\n",
    "        responses.append((name, paragraph.text))"
   ]
  },
  {
   "cell_type": "code",
   "execution_count": 36,
   "id": "e7cb8211-e8b9-4a78-8ca7-e659d132fba6",
   "metadata": {},
   "outputs": [],
   "source": [
    "cards = []\n",
    "speeches = set()\n",
    "for row in responses:\n",
    "    speeches.add(row[0])\n",
    "    cards.append(row[1])\n",
    "with open('/Users/abrahamepton/code/flow/src/data/37th_debate.json', 'w+') as fh:\n",
    "    fh.write(\n",
    "        json.dumps(\n",
    "            [{'text': response[1].strip(), 'speech': response[0].strip()} for response in responses]\n",
    "        )\n",
    "    )"
   ]
  },
  {
   "cell_type": "markdown",
   "id": "847b7713-a563-4900-8e43-bc5e408ce14d",
   "metadata": {},
   "source": [
    "## GOP presidential debate number 1"
   ]
  },
  {
   "cell_type": "code",
   "execution_count": 13,
   "id": "8c0bf870-33b3-419b-9ff5-50049f5e4643",
   "metadata": {},
   "outputs": [],
   "source": [
    "transcript_url = 'https://rollcall.com/2023/08/24/transcript-gop-presidential-hopefuls-debate-in-milwaukee/'\n",
    "transcript = BeautifulSoup(requests.get(transcript_url).text)"
   ]
  },
  {
   "cell_type": "code",
   "execution_count": 31,
   "id": "ce8739d8-bd76-46bc-be91-2b425b947beb",
   "metadata": {},
   "outputs": [],
   "source": [
    "pattern = re.compile(r'^(?P<name>.*): (?P<response>.*)$')"
   ]
  },
  {
   "cell_type": "code",
   "execution_count": 45,
   "id": "7e7d631f-1ced-423a-9da1-3650dacc5e5c",
   "metadata": {},
   "outputs": [],
   "source": [
    "speaker_map = {\n",
    "    'ALEXANDER DIAZ, CATHOLIC UNIVERSITY OF AMERICA': 'Bret Baier',\n",
    "    'ASA HUTCHINSON (R), PRESIDENTIAL CANDIDATE': 'Asa Hutchinson',\n",
    "    'BRET BAIER, FOX ANCHOR': 'Bret Baier',\n",
    "    'BAIER': 'Bret Baier',\n",
    "    'BURGUM': 'Doug Burgum',\n",
    "    'CHRIS CHRISTIE (R), PRESIDENTIAL CANDIDATE': 'Chris Christie',\n",
    "    'CHRISTIE': 'Chris Christie',\n",
    "    'CANDIDATE': 'Chris Christie',\n",
    "    'DESANTIS': 'Ron DeSantis',\n",
    "    'DOUG BURGUM (R), 2024 PRESDIENTIAL CANDIDATE': 'Doug Burgum',\n",
    "    'GOV. RON DESANTIS (R-FL), PRESIDENTIAL CANDIDAITE': 'Ron DeSantis',\n",
    "    'HALEY': 'Nikki Haley',\n",
    "    'HUTCHINSON': 'Asa Hutchinson',\n",
    "    'JOE BIDEN, PRESIDENT OF THE UNITED STATES': 'Martha MacCallum',\n",
    "    'BIDEN': 'Martha MacCallum',\n",
    "    'MACCALLUM': 'Martha MacCallum',\n",
    "    'MARTHA MACCALLUM, FOX ANCHOR': 'Martha MacCallum',\n",
    "    'MIKE PENCE (R), 2024 PRESIDENTIAL CANDIDATE': 'Mike Pence',\n",
    "    'NIKKI HALEY (R), 2024 PRESDIENTIAL CANDIDATE': 'Nikki Haley',\n",
    "    'PENCE': 'Mike Pence',\n",
    "    'RAMASWAMY': 'Vivek Ramaswamy',\n",
    "    'SCOTT': 'Tim Scott',\n",
    "    'SEN. TIM SCOTT (R-SC), PRESIDENTIAL CANDIDATE': 'Tim Scott',\n",
    "    'UNKNOWN': 'Bret Baier',\n",
    "    'VIVEK RAMASWAMY (R), 2024 PRESDIENTIAL CANDIDATE': 'Vivek Ramaswamy'\n",
    "}\n",
    "moderators = ['Bret Baier', 'Martha MacCallum']"
   ]
  },
  {
   "cell_type": "code",
   "execution_count": 49,
   "id": "ccc16f17-35dc-4230-9ef9-ba50d84e7798",
   "metadata": {},
   "outputs": [],
   "source": [
    "responses = []\n",
    "name = ''\n",
    "for paragraph in transcript.find_all('p'):\n",
    "    if paragraph.text.startswith('(') or paragraph.text == 'CHRIS CHRISTIE (R), FORMER NEW JERSEY GOVERNOR, PRESIDENTIAL':\n",
    "        continue\n",
    "    match = pattern.match(paragraph.text)\n",
    "    if match:\n",
    "        name = match.group('name')\n",
    "        if name and name not in speaker_map:\n",
    "            continue\n",
    "        responses.append((speaker_map[name], match.group('response')))\n",
    "    else:\n",
    "        if name in speaker_map:\n",
    "            responses.append((speaker_map[name], paragraph.text))"
   ]
  },
  {
   "cell_type": "code",
   "execution_count": 51,
   "id": "12666939-12e5-4d00-87f0-a88a81ae45c7",
   "metadata": {},
   "outputs": [],
   "source": [
    "with open('src/data/37th_debate_height.json') as fh:\n",
    "    data = json.loads(fh.read())"
   ]
  },
  {
   "cell_type": "code",
   "execution_count": 85,
   "id": "b40c5ae1-e49a-4093-9dd4-9ab0ca1e6a5f",
   "metadata": {},
   "outputs": [],
   "source": [
    "speech_map = {}\n",
    "speeches = []\n",
    "for r in responses:\n",
    "    if r[0] not in speech_map:\n",
    "        speech_map[r[0]] = str(uuid.uuid4())\n",
    "        speeches.append({'label': r[0], 'id': speech_map[r[0]]})\n",
    "gop_data = {\n",
    "    'cards': [{'speech': speech_map[r[0]], 'text': r[1], 'id': str(uuid.uuid4())} for r in responses],\n",
    "    'edges': [],\n",
    "    'title': 'GOP Presidential Debate #1',\n",
    "    'meta': '',\n",
    "    'tags': {},\n",
    "    'speeches': speeches,\n",
    "    'date': 'Aug. 23, 2023',\n",
    "    'source': 'CQ via Roll Call',\n",
    "    'url': 'https://rollcall.com/2023/08/24/transcript-gop-presidential-hopefuls-debate-in-milwaukee/',\n",
    "    'moderators': [speech_map[m] for m in moderators]\n",
    "}\n",
    "for tag in data['tags']:\n",
    "    gop_data['tags'][tag] = []"
   ]
  },
  {
   "cell_type": "code",
   "execution_count": 86,
   "id": "f4f7e753-e525-4140-8aae-7c3ceeb9410d",
   "metadata": {},
   "outputs": [],
   "source": [
    "for idx, card in enumerate(gop_data['cards']):\n",
    "    if idx < len(gop_data['cards']) - 1:\n",
    "        gop_data['edges'].append(\n",
    "            {\n",
    "                'source': f'card_{card[\"id\"]}',\n",
    "                'target': f'card_{gop_data[\"cards\"][idx + 1][\"id\"]}'\n",
    "            }\n",
    "        )"
   ]
  },
  {
   "cell_type": "code",
   "execution_count": 87,
   "id": "757c8185-449c-43df-91b0-9c8a75c91563",
   "metadata": {},
   "outputs": [],
   "source": [
    "with open('src/data/gop_debate_1.json', 'w+') as fh:\n",
    "    fh.write(json.dumps(gop_data))"
   ]
  },
  {
   "cell_type": "code",
   "execution_count": null,
   "id": "77b94121-943d-405f-b5f2-7ed3e1cffad2",
   "metadata": {},
   "outputs": [],
   "source": []
  }
 ],
 "metadata": {
  "kernelspec": {
   "display_name": "Python 3 (ipykernel)",
   "language": "python",
   "name": "python3"
  },
  "language_info": {
   "codemirror_mode": {
    "name": "ipython",
    "version": 3
   },
   "file_extension": ".py",
   "mimetype": "text/x-python",
   "name": "python",
   "nbconvert_exporter": "python",
   "pygments_lexer": "ipython3",
   "version": "3.8.2"
  }
 },
 "nbformat": 4,
 "nbformat_minor": 5
}
