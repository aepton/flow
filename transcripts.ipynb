{
 "cells": [
  {
   "cell_type": "code",
   "execution_count": 29,
   "id": "012b99d7-8845-4fb6-b4e6-45ba5c9e4c0f",
   "metadata": {},
   "outputs": [],
   "source": [
    "import json\n",
    "import re\n",
    "import requests\n",
    "from bs4 import BeautifulSoup"
   ]
  },
  {
   "cell_type": "code",
   "execution_count": 6,
   "id": "a8399944-b8c0-4ed3-8601-30a111d15cf5",
   "metadata": {},
   "outputs": [],
   "source": [
    "transcript_url = 'https://www.officialhacksandwonks.com/sse-37th-ld-debate-2022#transcript'\n",
    "transcript = BeautifulSoup(requests.get(transcript_url).text)"
   ]
  },
  {
   "cell_type": "code",
   "execution_count": 13,
   "id": "38fbf544-bede-49e2-ab05-27bfbab23a99",
   "metadata": {},
   "outputs": [
    {
     "data": {
      "text/plain": [
       "\"[00:00:09] Crystal Fincher: Welcome everyone to the South Seattle Emerald's 2022 General Election Candidate Debate. My name is Crystal Fincher. I'm a political consultant and the host of the Hacks & Wonks radio show and podcast, and I'm honored to welcome you all to tonight's debate. I'm also excited to hear from our guests running for State Representative Position 2 in the 37th Legislative District.\""
      ]
     },
     "execution_count": 13,
     "metadata": {},
     "output_type": "execute_result"
    }
   ],
   "source": [
    "transcript.find_all('p')[0].text"
   ]
  },
  {
   "cell_type": "code",
   "execution_count": 15,
   "id": "242118c8-e3a8-4702-8e60-2c47f0982f31",
   "metadata": {},
   "outputs": [],
   "source": [
    "pattern = re.compile(r'\\[\\d+:\\d+:\\d+]\\s(?P<name>.*):(?P<response>.*)')"
   ]
  },
  {
   "cell_type": "code",
   "execution_count": 27,
   "id": "b679d9df-256a-47cb-a11c-6700af6988a5",
   "metadata": {},
   "outputs": [],
   "source": [
    "responses = []\n",
    "name = ''\n",
    "for paragraph in transcript.find_all('p'):\n",
    "    match = pattern.match(paragraph.text)\n",
    "    if match:\n",
    "        name = match.group('name')\n",
    "        responses.append((name, match.group('response')))\n",
    "    else:\n",
    "        responses.append((name, paragraph.text))"
   ]
  },
  {
   "cell_type": "code",
   "execution_count": 36,
   "id": "e7cb8211-e8b9-4a78-8ca7-e659d132fba6",
   "metadata": {},
   "outputs": [],
   "source": [
    "cards = []\n",
    "speeches = set()\n",
    "for row in responses:\n",
    "    speeches.add(row[0])\n",
    "    cards.append(row[1])\n",
    "with open('/Users/abrahamepton/code/flow/src/data/37th_debate.json', 'w+') as fh:\n",
    "    fh.write(\n",
    "        json.dumps(\n",
    "            [{'text': response[1].strip(), 'speech': response[0].strip()} for response in responses]\n",
    "        )\n",
    "    )"
   ]
  },
  {
   "cell_type": "code",
   "execution_count": null,
   "id": "14cfd051-c286-47b4-8d8d-8066267b9c77",
   "metadata": {},
   "outputs": [],
   "source": []
  }
 ],
 "metadata": {
  "kernelspec": {
   "display_name": "Python 3 (ipykernel)",
   "language": "python",
   "name": "python3"
  },
  "language_info": {
   "codemirror_mode": {
    "name": "ipython",
    "version": 3
   },
   "file_extension": ".py",
   "mimetype": "text/x-python",
   "name": "python",
   "nbconvert_exporter": "python",
   "pygments_lexer": "ipython3",
   "version": "3.8.2"
  }
 },
 "nbformat": 4,
 "nbformat_minor": 5
}
